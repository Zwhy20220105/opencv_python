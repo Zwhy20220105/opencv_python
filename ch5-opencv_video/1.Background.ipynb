{
 "cells": [
  {
   "attachments": {},
   "cell_type": "markdown",
   "metadata": {},
   "source": [
    "## 背景分离算法原理\n",
    "### 1. 基于MOG2的背景分离算法\n",
    "#### 1.1 MOG2算法原理\n",
    "MOG2算法是基于高斯混合模型的背景分离算法，它的基本原理是：对于每一个像素点，根据前面T帧的像素值计算出该像素点的背景模型，然后根据当前帧的像素值和背景模型进行比较，如果该像素点的像素值与背景模型的差异超过了阈值，那么就认为该像素点是前景，否则就认为该像素点是背景。\n",
    "### 2. 基于KNN的背景分离算法\n",
    "#### 2.1 KNN算法原理\n",
    "KNN算法是基于K近邻的背景分离算法，它的基本原理是：对于每一个像素点，根据前面T帧的像素值计算出该像素点的背景模型，然后根据当前帧的像素值和背景模型进行比较，如果该像素点的像素值与背景模型的差异超过了阈值，那么就认为该像素点是前景，否则就认为该像素点是背景。\n",
    "\n",
    "\n",
    "\n"
   ]
  },
  {
   "cell_type": "code",
   "execution_count": 4,
   "metadata": {},
   "outputs": [],
   "source": [
    "from __future__ import print_function\n",
    "import cv2 as cv\n",
    "\n",
    "# 配置输入路径和背景减除算法\n",
    "input_path = '../data/Megamind_bugy.avi'\n",
    "input_path = '../data/vtest.avi'\n",
    "background_algo = 'KNN'\n",
    "\n",
    "## (MOG2)高斯混合模型\n",
    "## (KNN)K近邻算法\n",
    "\n",
    "# 根据配置选择背景减除算法\n",
    "if background_algo == 'MOG2':\n",
    "    backSub = cv.createBackgroundSubtractorMOG2()\n",
    "else:\n",
    "    backSub = cv.createBackgroundSubtractorKNN()\n",
    "\n",
    "# 打开视频文件\n",
    "#capture = cv.VideoCapture(cv.samples.findFileOrKeep(input_path))\n",
    "capture = cv.VideoCapture(0)\n",
    "if not capture.isOpened:\n",
    "    print('Unable to open: ' + input_path)\n",
    "    exit(0)\n",
    "\n",
    "while True:\n",
    "    ret, frame = capture.read()\n",
    "    if not ret:\n",
    "        break\n",
    "    # 背景减除\n",
    "    fgMask = backSub.apply(frame)\n",
    "    # 白色画出矩形框\n",
    "    cv.rectangle(frame, (10, 2), (100, 20), (255, 255, 255), -1)\n",
    "    # 这是一个简单的计数器，用于显示当前帧数\n",
    "    cv.putText(frame, str(capture.get(cv.CAP_PROP_POS_FRAMES)), (15, 15),\n",
    "               cv.FONT_HERSHEY_SIMPLEX, 0.5, (0, 0, 0))\n",
    "\n",
    "    cv.imshow('Frame', frame)\n",
    "    cv.imshow('FG Mask', fgMask)\n",
    "\n",
    "    keyboard = cv.waitKey(30)\n",
    "    if keyboard == ord('q') or keyboard == 27:\n",
    "        break\n",
    "\n",
    "# 释放摄像头并关闭窗口\n",
    "capture.release()\n",
    "cv.destroyAllWindows()"
   ]
  },
  {
   "attachments": {},
   "cell_type": "markdown",
   "metadata": {},
   "source": [
    "高斯分布是一种连续概率分布，也称为正态分布，其概率密度函数为：\n",
    "$$\n",
    "f(x)=\\frac{1}{\\sqrt{2\\pi}\\sigma}e^{-\\frac{(x-\\mu)^2}{2\\sigma^2}}\n",
    "$$\n",
    "其中，$\\mu$为均值，$\\sigma$为标准差，$\\sigma^2$为方差。\n",
    "#### 1.2 高斯混合模型\n",
    "高斯混合模型（Gaussian Mixture Model，GMM）是一种概率模型，它是若干个高斯分布的线性组合，理论上可以拟合出任意类型的分布。高斯混合模型的概率密度函数为：\n",
    "$$\n",
    "f(x)=\\sum_{i=1}^N\\alpha_i\\frac{1}{\\sqrt{2\\pi}\\sigma_i}e^{-\\frac{(x-\\mu_i)^2}{2\\sigma_i^2}}\n",
    "$$\n",
    "其中，$\\alpha_i$为第$i$个高斯分布的权重，$\\sum_{i=1}^N\\alpha_i=1$。\n",
    "\n"
   ]
  }
 ],
 "metadata": {
  "kernelspec": {
   "display_name": "Python 3",
   "language": "python",
   "name": "python3"
  },
  "language_info": {
   "codemirror_mode": {
    "name": "ipython",
    "version": 3
   },
   "file_extension": ".py",
   "mimetype": "text/x-python",
   "name": "python",
   "nbconvert_exporter": "python",
   "pygments_lexer": "ipython3",
   "version": "3.11.3"
  },
  "orig_nbformat": 4
 },
 "nbformat": 4,
 "nbformat_minor": 2
}
