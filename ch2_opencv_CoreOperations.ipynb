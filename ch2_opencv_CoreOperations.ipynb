{
 "cells": [
  {
   "cell_type": "code",
   "execution_count": 16,
   "metadata": {},
   "outputs": [
    {
     "name": "stdout",
     "output_type": "stream",
     "text": [
      "128 128 3\n"
     ]
    }
   ],
   "source": [
    "import numpy as np\n",
    "import cv2 as cv\n",
    "img = cv.imread(\"yellow.jpg\")\n",
    "h,w,c = img.shape\n",
    "#图像大小为128*128*3\n",
    "print(h,w,c)\n"
   ]
  },
  {
   "cell_type": "code",
   "execution_count": null,
   "metadata": {},
   "outputs": [],
   "source": []
  },
  {
   "cell_type": "code",
   "execution_count": 17,
   "metadata": {},
   "outputs": [
    {
     "name": "stdout",
     "output_type": "stream",
     "text": [
      "Pixel value: [  0 255 255]\n",
      "Blue channel value: 0\n",
      "Green channel value: 255\n",
      "Red channel value: 255\n"
     ]
    }
   ],
   "source": [
    "pixel = img[100, 100]\n",
    "print(f\"Pixel value: {pixel}\")\n",
    "\n",
    "# BGR顺序，黄色的值应为[0, 255, 255]\n",
    "blue = img[100, 100, 0]\n",
    "green = img[100, 100, 1]\n",
    "red = img[100, 100, 2]\n",
    "\n",
    "print(f\"Blue channel value: {blue}\")\n",
    "print(f\"Green channel value: {green}\")\n",
    "print(f\"Red channel value: {red}\")\n"
   ]
  },
  {
   "cell_type": "code",
   "execution_count": 20,
   "metadata": {},
   "outputs": [
    {
     "name": "stdout",
     "output_type": "stream",
     "text": [
      "[255 255 255]\n"
     ]
    }
   ],
   "source": [
    "cv.namedWindow(\"yellow\", cv.WINDOW_NORMAL)\n",
    "img[100,100] = [255,255,255]\n",
    "print(img[100,100])\n",
    "cv.imshow(\"yellow\",img)\n",
    "cv.waitKey(0)\n",
    "cv.destroyAllWindows()"
   ]
  },
  {
   "cell_type": "code",
   "execution_count": 21,
   "metadata": {},
   "outputs": [],
   "source": [
    "cv.namedWindow(\"yellow\", cv.WINDOW_NORMAL)\n",
    "img.item(10,10,2)\n",
    "img.itemset((10,10,2),100)\n",
    "img.item(10,10,2)\n",
    "cv.imshow(\"yellow\",img)\n",
    "cv.waitKey(0)\n",
    "cv.destroyAllWindows()"
   ]
  },
  {
   "cell_type": "code",
   "execution_count": 22,
   "metadata": {},
   "outputs": [
    {
     "name": "stdout",
     "output_type": "stream",
     "text": [
      "(128, 128, 3)\n"
     ]
    }
   ],
   "source": [
    "print(img.shape)"
   ]
  },
  {
   "cell_type": "code",
   "execution_count": 23,
   "metadata": {},
   "outputs": [
    {
     "name": "stdout",
     "output_type": "stream",
     "text": [
      "uint8\n"
     ]
    }
   ],
   "source": [
    "print(img.dtype)"
   ]
  },
  {
   "cell_type": "code",
   "execution_count": 24,
   "metadata": {},
   "outputs": [
    {
     "name": "stdout",
     "output_type": "stream",
     "text": [
      "49152\n"
     ]
    }
   ],
   "source": [
    "print(img.size)"
   ]
  },
  {
   "cell_type": "code",
   "execution_count": 27,
   "metadata": {},
   "outputs": [
    {
     "name": "stdout",
     "output_type": "stream",
     "text": [
      "280 450 3\n"
     ]
    }
   ],
   "source": [
    "\n",
    "img = cv.imread(\"roi.jpg\")\n",
    "h,w,c = img.shape\n",
    "#图像大小为128*128*3\n",
    "print(h,w,c)\n",
    "ball = img[280:340,330:390]\n",
    "img[273:333,100:160]\n",
    "cv.imshow(\"roi\",img)\n",
    "cv.waitKey(0)\n",
    "cv.destroyAllWindows()"
   ]
  }
 ],
 "metadata": {
  "kernelspec": {
   "display_name": "Python 3",
   "language": "python",
   "name": "python3"
  },
  "language_info": {
   "codemirror_mode": {
    "name": "ipython",
    "version": 3
   },
   "file_extension": ".py",
   "mimetype": "text/x-python",
   "name": "python",
   "nbconvert_exporter": "python",
   "pygments_lexer": "ipython3",
   "version": "3.11.3"
  },
  "orig_nbformat": 4
 },
 "nbformat": 4,
 "nbformat_minor": 2
}
