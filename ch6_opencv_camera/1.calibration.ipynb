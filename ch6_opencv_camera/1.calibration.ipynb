{
 "cells": [
  {
   "attachments": {},
   "cell_type": "markdown",
   "metadata": {},
   "source": [
    "# 相机内参标定\n",
    "## 内参标定原理\n",
    "## opencv中标定api\n",
    "## 畸变矫正\n",
    "### undistort\n",
    "### remap\n",
    "## 标定结果评估(重新投影误差)"
   ]
  },
  {
   "cell_type": "code",
   "execution_count": 11,
   "metadata": {},
   "outputs": [
    {
     "name": "stdout",
     "output_type": "stream",
     "text": [
      "total error: 0.023287284862136742\n"
     ]
    }
   ],
   "source": [
    "import numpy as np\n",
    "import cv2 as cv\n",
    "import glob\n",
    "# 终止条件, 当达到30次迭代或者精度epsilon=0.001时停止迭代\n",
    "# TERM_CRITERIA_EPS是指定精度，TERM_CRITERIA_MAX_ITER是指定迭代次数\n",
    "criteria = (cv.TERM_CRITERIA_EPS + cv.TERM_CRITERIA_MAX_ITER, 30, 0.001)\n",
    "# 准备对象点， 如 (0,0,0), (1,0,0), (2,0,0) ....,(6,5,0)\n",
    "objp = np.zeros((6*7,3), np.float32)\n",
    "objp[:,:2] = np.mgrid[0:7,0:6].T.reshape(-1,2)\n",
    "# 用于存储所有图像的对象点和图像点的数组。\n",
    "objpoints = [] # 真实世界中的3d点\n",
    "imgpoints = [] # 图像中的2d点\n",
    "images = glob.glob('../data/left0*.jpg')#glob.glob()返回所有匹配的文件路径列表。\n",
    "for fname in images:\n",
    "    img = cv.imread(fname)\n",
    "    gray = cv.cvtColor(img, cv.COLOR_BGR2GRAY)\n",
    "    # 找到棋盘角落\n",
    "    ret, corners = cv.findChessboardCorners(gray, (7,6), None)\n",
    "    # 如果找到，添加对象点，图像点（细化之后）\n",
    "    if ret == True:\n",
    "        objpoints.append(objp)#将世界坐标系的坐标放入objpoints中\n",
    "        corners2 = cv.cornerSubPix(gray,corners, (11,11), (-1,-1), criteria)#细化角点坐标\n",
    "        imgpoints.append(corners)#将图像坐标系的坐标放入imgpoints中\n",
    "        # 绘制并显示拐角\n",
    "        cv.drawChessboardCorners(img, (7,6), corners2, ret)\n",
    "        #cv.imshow('img', img)\n",
    "        cv.waitKey(500)\n",
    "# 标定,返回值分别是：ret:标定结果；mtx:相机内参；dist:畸变系数；rvecs:旋转向量；tvecs:平移向量\n",
    "ret, mtx, dist, rvecs, tvecs = cv.calibrateCamera(objpoints, imgpoints, gray.shape[::-1], None, None) \n",
    "# print(\"ret:\",ret)\n",
    "#print(\"mtx:\\n\",mtx)\n",
    "# print(\"dist:\\n\",dist)\n",
    "# print(\"rvecs:\\n\",rvecs)\n",
    "# print(\"tvecs:\\n\",tvecs)\n",
    "img = cv.imread('../data/left12.jpg')\n",
    "h,  w = img.shape[:2]\n",
    "newcameramtx, roi = cv.getOptimalNewCameraMatrix(mtx, dist, (w,h), 1, (w,h))\n",
    "# print(newcameramtx)\n",
    " # undistort\n",
    "dst1 = cv.undistort(img, mtx, dist, None, newcameramtx)\n",
    "# 剪裁图像\n",
    "x, y, w, h = roi\n",
    "dst1 = dst1[y:y+h, x:x+w]\n",
    "\n",
    "# undistort\n",
    "mapx, mapy = cv.initUndistortRectifyMap(mtx, dist, None, newcameramtx, (w,h), 5)\n",
    "dst2 = cv.remap(img, mapx, mapy, cv.INTER_LINEAR)\n",
    "# 裁剪图像\n",
    "x, y, w, h = roi\n",
    "dst2 = dst2[y:y+h, x:x+w]\n",
    "\n",
    "#两张图片合并在一起显示,两张像素大小不一致,需要调整大小\n",
    "#调整大小\n",
    "dst1 = cv.resize(dst1,(640,480))\n",
    "dst2 = cv.resize(dst2,(640,480))\n",
    "hmerge = np.concatenate((dst1, dst2), axis=1)\n",
    "\n",
    "mean_error = 0\n",
    "for i in range(len(objpoints)):\n",
    "    imgpoints2, _ = cv.projectPoints(objpoints[i], rvecs[i], tvecs[i], mtx, dist)\n",
    "    error = cv.norm(imgpoints[i], imgpoints2, cv.NORM_L2)/len(imgpoints2)\n",
    "    mean_error += error\n",
    "print( \"total error: {}\".format(mean_error/len(objpoints)) )\n",
    "\n",
    "cv.imshow('hmerge', hmerge)\n",
    "cv.waitKey(0)\n",
    "cv.destroyAllWindows()\n"
   ]
  },
  {
   "attachments": {},
   "cell_type": "markdown",
   "metadata": {},
   "source": [
    ">objp = np.zeros((6*7,3), np.float32)  \n",
    ">objp[:,:2] = np.mgrid[0:7,0:6].T.reshape(-1,2)  \n",
    "\n",
    "让我们来解释一下objp[:,:2] = np.mgrid[0:7,0:6].T.reshape(-1,2)这段代码的含义。\n",
    "首先，让我们从右往左逐步解析这段代码：\n",
    "\n",
    "1. np.mgrid[0:7,0:6]：np.mgrid是一个用于生成多维坐标网格的函数。在这里，我们使用np.mgrid[0:7,0:6]生成一个2D坐标网格，其中第一维的取值范围是0到6，第二维的取值范围是0到5。这将生成一个形状为(7, 6, 2)的数组，其中每个元素都是一个包含两个坐标值的数组。\n",
    "\n",
    "2. .T：.T是数组的转置操作符。它将对先前生成的数组进行转置，使得第一维和第二维的坐标值交换位置。转置之后，数组的形状变为(6, 7, 2)。\n",
    "\n",
    "3. .reshape(-1, 2)：.reshape()方法用于重新塑造数组的形状。在这里，我们将数组重新塑造为一个两列的数组，而不关心行数。通过使用-1作为参数，reshape()方法将根据数组的总元素数量自动计算行数。在这个示例中，数组的总元素数量是42（6行 x 7列），因此结果将是一个形状为(42, 2)的数组。\n",
    "\n",
    "现在，我们来看objp[:,:2] = ...部分：\n",
    "\n",
    "objp[:,:2]：表示对objp数组的切片操作，选取所有行的前两列。\n",
    "= np.mgrid[0:7,0:6].T.reshape(-1,2)：将右侧计算的数组赋值给切片所选的部分。\n",
    "综上所述，这段代码的目的是将一个表示棋盘格对象点的数组objp初始化为一个形状为(42, 3)的二维数组，其中前两列是棋盘格的x和y坐标（从0到6，共7列），而第三列都是0。这样，我们就得到了一组在真实世界中的棋盘格角点的3D坐标。"
   ]
  }
 ],
 "metadata": {
  "kernelspec": {
   "display_name": "Python 3",
   "language": "python",
   "name": "python3"
  },
  "language_info": {
   "codemirror_mode": {
    "name": "ipython",
    "version": 3
   },
   "file_extension": ".py",
   "mimetype": "text/x-python",
   "name": "python",
   "nbconvert_exporter": "python",
   "pygments_lexer": "ipython3",
   "version": "3.11.3"
  },
  "orig_nbformat": 4
 },
 "nbformat": 4,
 "nbformat_minor": 2
}
