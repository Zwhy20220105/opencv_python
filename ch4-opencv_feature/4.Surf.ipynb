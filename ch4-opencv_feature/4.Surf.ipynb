{
 "cells": [
  {
   "attachments": {},
   "cell_type": "markdown",
   "metadata": {},
   "source": [
    "## 特征检测 Surf算法 (有专利用不了)  \n",
    "sift的优化版，速度更快，但是不是免费的，需要付费使用\n",
    "## 4.1 基本使用\n",
    "### 4.1.1 创建对象\n",
    "```python\n",
    "cv2.xfeatures2d.SURF_create([, hessianThreshold[, nOctaves[, nOctaveLayers[, extended[, upright]]]]]) -> retval\n",
    "```\n",
    "- hessianThreshold: Hessian阈值，用来筛选关键点\n",
    "- nOctaves: 金字塔组数\n",
    "- nOctaveLayers: 每组金字塔层数\n",
    "- extended: 是否扩展描述符\n",
    "- upright: 是否使用扩展的旋转特征\n",
    "### 4.1.2 检测关键点\n",
    "```python\n",
    "detect(image[, mask]) -> keypoints\n",
    "```\n",
    "- image: 输入图像\n",
    "- mask: 掩码图像\n",
    "- keypoints: 关键点\n",
    "### 4.1.3 计算描述符\n",
    "```python\n",
    "compute(image, keypoints[, descriptors]) -> keypoints, descriptors\n",
    "```\n",
    "- image: 输入图像\n",
    "- keypoints: 关键点\n",
    "- descriptors: 描述符\n",
    "### 4.1.4 检测关键点并计算描述符\n",
    "```python\n",
    "detectAndCompute(image, mask[, descriptors[, useProvidedKeypoints]]) -> keypoints, descriptors\n",
    "```\n",
    "- image: 输入图像\n",
    "- mask: 掩码图像\n",
    "- keypoints: 关键点\n",
    "- descriptors: 描述符\n",
    "- useProvidedKeypoints: 是否使用提供的关键点\n"
   ]
  }
 ],
 "metadata": {
  "kernelspec": {
   "display_name": "Python 3",
   "language": "python",
   "name": "python3"
  },
  "language_info": {
   "codemirror_mode": {
    "name": "ipython",
    "version": 3
   },
   "file_extension": ".py",
   "mimetype": "text/x-python",
   "name": "python",
   "nbconvert_exporter": "python",
   "pygments_lexer": "ipython3",
   "version": "3.11.3"
  },
  "orig_nbformat": 4
 },
 "nbformat": 4,
 "nbformat_minor": 2
}
