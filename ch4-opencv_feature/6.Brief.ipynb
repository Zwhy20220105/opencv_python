{
 "cells": [
  {
   "attachments": {},
   "cell_type": "markdown",
   "metadata": {},
   "source": [
    "## BRIEF(二进制的鲁棒独立基本特征)算法(要钱用不了)\n",
    "## 1.1 基本使用\n",
    "### 1.1.1 创建对象\n",
    "```python\n",
    "cv2.xfeatures2d.BriefDescriptorExtractor_create([, bytes[, use_orientation]]) -> retval\n",
    "```\n",
    "- bytes: 描述符长度，默认32\n",
    "- use_orientation: 是否使用方向，默认不使用\n",
    "### 1.1.2 计算描述符\n",
    "```python\n",
    "compute(image, keypoints[, descriptors]) -> keypoints, descriptors\n",
    "```\n",
    "- image: 输入图像\n",
    "- keypoints: 关键点\n",
    "- descriptors: 描述符\n",
    "### 1.1.3 检测关键点并计算描述符\n",
    "```python\n",
    "detectAndCompute(image, mask[, descriptors[, useProvidedKeypoints]]) -> keypoints, descriptors\n",
    "```\n",
    "- image: 输入图像\n",
    "- mask: 掩码图像\n",
    "- keypoints: 关键点\n",
    "- descriptors: 描述符\n",
    "- useProvidedKeypoints: 是否使用提供的关键点\n",
    "```\n"
   ]
  },
  {
   "cell_type": "code",
   "execution_count": 2,
   "metadata": {},
   "outputs": [
    {
     "ename": "AttributeError",
     "evalue": "module 'cv2' has no attribute 'xfeatures2d'",
     "output_type": "error",
     "traceback": [
      "\u001b[1;31m---------------------------------------------------------------------------\u001b[0m",
      "\u001b[1;31mAttributeError\u001b[0m                            Traceback (most recent call last)",
      "Cell \u001b[1;32mIn[2], line 7\u001b[0m\n\u001b[0;32m      5\u001b[0m img \u001b[39m=\u001b[39m cv\u001b[39m.\u001b[39mimread(\u001b[39m'\u001b[39m\u001b[39m../data/box.png\u001b[39m\u001b[39m'\u001b[39m,\u001b[39m0\u001b[39m)\n\u001b[0;32m      6\u001b[0m \u001b[39m# Initiate FAST detector\u001b[39;00m\n\u001b[1;32m----> 7\u001b[0m star \u001b[39m=\u001b[39m cv\u001b[39m.\u001b[39;49mxfeatures2d\u001b[39m.\u001b[39mStarDetector_create()\n\u001b[0;32m      8\u001b[0m \u001b[39m# Initiate BRIEF extractor\u001b[39;00m\n\u001b[0;32m      9\u001b[0m brief \u001b[39m=\u001b[39m cv\u001b[39m.\u001b[39mxfeatures2d\u001b[39m.\u001b[39mBriefDescriptorExtractor_create()\n",
      "\u001b[1;31mAttributeError\u001b[0m: module 'cv2' has no attribute 'xfeatures2d'"
     ]
    }
   ],
   "source": [
    "import numpy as np\n",
    "import cv2 as cv\n",
    "from matplotlib import pyplot as plt\n",
    "img = cv.imread('simple.jpg',0)\n",
    "# 初始化FAST检测器\n",
    "star = cv.xfeatures2d.StarDetector_create()\n",
    "# 初始化BRIEF提取器\n",
    "brief = cv.xfeatures2d.BriefDescriptorExtractor_create()\n",
    "# 找到STAR的关键点\n",
    "kp = star.detect(img,None)\n",
    "# 计算BRIEF的描述符\n",
    "kp, des = brief.compute(img, kp)\n",
    "print( brief.descriptorSize() )\n",
    "print( des.shape )"
   ]
  }
 ],
 "metadata": {
  "kernelspec": {
   "display_name": "Python 3",
   "language": "python",
   "name": "python3"
  },
  "language_info": {
   "codemirror_mode": {
    "name": "ipython",
    "version": 3
   },
   "file_extension": ".py",
   "mimetype": "text/x-python",
   "name": "python",
   "nbconvert_exporter": "python",
   "pygments_lexer": "ipython3",
   "version": "3.11.3"
  },
  "orig_nbformat": 4
 },
 "nbformat": 4,
 "nbformat_minor": 2
}
