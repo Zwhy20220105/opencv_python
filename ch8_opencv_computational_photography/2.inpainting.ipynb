{
 "cells": [
  {
   "cell_type": "markdown",
   "metadata": {},
   "source": []
  },
  {
   "cell_type": "code",
   "execution_count": 29,
   "metadata": {},
   "outputs": [
    {
     "name": "stdout",
     "output_type": "stream",
     "text": [
      "(168, 227)\n",
      "(167, 226, 3)\n"
     ]
    }
   ],
   "source": [
    "import numpy as np\n",
    "import cv2 as cv\n",
    "\n",
    "\n",
    "img = cv.imread('../data/messi_2.jpg')\n",
    "\n",
    "mask = cv.imread('../data/mask2.png',0)\n",
    "\n",
    "# 两两张图裁切到一样大\n",
    "mask = mask[0:img.shape[0],0:img.shape[1]]\n",
    "\n",
    "dst = cv.inpaint(img,mask,3,cv.INPAINT_TELEA)\n",
    "cv.imshow('dst',dst)\n",
    "cv.waitKey(0)\n",
    "cv.destroyAllWindows()\n"
   ]
  }
 ],
 "metadata": {
  "kernelspec": {
   "display_name": "Python 3",
   "language": "python",
   "name": "python3"
  },
  "language_info": {
   "codemirror_mode": {
    "name": "ipython",
    "version": 3
   },
   "file_extension": ".py",
   "mimetype": "text/x-python",
   "name": "python",
   "nbconvert_exporter": "python",
   "pygments_lexer": "ipython3",
   "version": "3.11.3"
  },
  "orig_nbformat": 4
 },
 "nbformat": 4,
 "nbformat_minor": 2
}
