{
 "cells": [
  {
   "attachments": {},
   "cell_type": "markdown",
   "metadata": {},
   "source": [
    "# 性能测量和改进技术"
   ]
  },
  {
   "attachments": {},
   "cell_type": "markdown",
   "metadata": {},
   "source": [
    "getTickCount() 用于返回时间周期数的\"时间戳\"\n",
    "cv.getTickFrequency函数返回时钟周期的频率;"
   ]
  },
  {
   "cell_type": "code",
   "execution_count": 21,
   "metadata": {},
   "outputs": [
    {
     "name": "stdout",
     "output_type": "stream",
     "text": [
      "1\n",
      "7.33e-05\n"
     ]
    }
   ],
   "source": [
    "import cv2 as cv\n",
    "e1 = cv.getTickCount()\n",
    "#你的执行的代码\n",
    "e2 = cv.getTickCount()\n",
    "time = (e2 - e1)/cv.getTickFrequency()\n",
    "print(time)\n"
   ]
  },
  {
   "cell_type": "code",
   "execution_count": 61,
   "metadata": {},
   "outputs": [
    {
     "name": "stdout",
     "output_type": "stream",
     "text": [
      "0.2142685\n"
     ]
    }
   ],
   "source": [
    "import cv2 as cv\n",
    "img1 = cv.imread('messi.jpg')\n",
    "e1 = cv.getTickCount()\n",
    "for i in range(5,49,2):\n",
    "    img1 = cv.medianBlur(img1,i)\n",
    "e2 = cv.getTickCount()\n",
    "t = (e2 - e1)/cv.getTickFrequency()\n",
    "print( t )\n",
    "# 得到的结果是 0.521107655 秒"
   ]
  },
  {
   "cell_type": "code",
   "execution_count": 64,
   "metadata": {},
   "outputs": [],
   "source": [
    "import cv2 as cv\n",
    "cv.useOptimized()"
   ]
  },
  {
   "attachments": {},
   "cell_type": "markdown",
   "metadata": {},
   "source": [
    "## python-opencv注意事项\n",
    "1. 尽量避免在 Python 中使用循环，尤其是双循环/三循环等。它们本质上很慢。\n",
    "2. 将算法/代码矢量化到最大可能范围，因为 Numpy 和 OpenCV 针对向量运算进行了优化。\n",
    "3. 利用缓存一致性。\n",
    "4. 除非需要，否则永远不要复制数组。尝试使用视图。复制多维数组是一项耗费时间和空间都很多的操作。(译者注：译者认为这儿的意思是除非必要，否在尽量不要使用深拷贝)"
   ]
  }
 ],
 "metadata": {
  "kernelspec": {
   "display_name": "Python 3",
   "language": "python",
   "name": "python3"
  },
  "language_info": {
   "codemirror_mode": {
    "name": "ipython",
    "version": 3
   },
   "file_extension": ".py",
   "mimetype": "text/x-python",
   "name": "python",
   "nbconvert_exporter": "python",
   "pygments_lexer": "ipython3",
   "version": "3.11.3"
  },
  "orig_nbformat": 4
 },
 "nbformat": 4,
 "nbformat_minor": 2
}
