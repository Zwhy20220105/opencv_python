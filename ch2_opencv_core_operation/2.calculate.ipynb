{
 "cells": [
  {
   "attachments": {},
   "cell_type": "markdown",
   "metadata": {},
   "source": [
    "# 图像的算术运算\n",
    "## 图像加法\n",
    "**OpenCV 相加操作和 Numpy 相加操作之间存在差异.** \n",
    "1. OpenCV 添加是饱和操作  \n",
    "    饱和操作指的是当相加的结果超过像素值的上限（例如，在图像的像素值范围为0到255时，相加结果超过255），则将其截断为上限值。这意味着最终的像素值不会超过上限值，从而避免出现溢出的情况。\n",
    "2. Numpy 添加是模运算  \n",
    "    模运算是对相加结果进行模运算，将结果限制在像素值的范围内。例如，对于一个8位图像（像素值范围为0到255），相加结果大于255时，将对256取模，得到的余数作为最终的像素值。"
   ]
  },
  {
   "cell_type": "code",
   "execution_count": null,
   "metadata": {},
   "outputs": [],
   "source": [
    "import cv2 as cv\n",
    "import numpy as np\n",
    "x = np.uint8([250])\n",
    "y = np.uint8([10])\n",
    "print(cv.add(x,y)) #250 + 10 =260 => 255\n",
    "print(x + y)"
   ]
  },
  {
   "attachments": {},
   "cell_type": "markdown",
   "metadata": {},
   "source": [
    "## 图像混合"
   ]
  },
  {
   "cell_type": "code",
   "execution_count": null,
   "metadata": {},
   "outputs": [],
   "source": [
    "import cv2 as cv\n",
    "import numpy as np\n",
    "img1= cv.imread('robot.png')\n",
    "img2= cv.imread('opencv-logo-black.png')\n",
    "img1 = cv.resize(img1, (150, 184))\n",
    "print(img1.shape)\n",
    "print(img2.shape)\n",
    "dst = cv.addWeighted(img1,0.7,img2,0.3,0)\n",
    "cv.imshow('dst',dst)\n",
    "cv.waitKey(0)\n",
    "cv.destroyAllWindows()\n"
   ]
  },
  {
   "attachments": {},
   "cell_type": "markdown",
   "metadata": {},
   "source": [
    "## 按位操作(融合图像)\n",
    "这包括按位 AND，OR，NOT 和 XOR 运算。它们在提取图像的某一部分、定义和使用非矩形 ROI 等方面非常有用。"
   ]
  },
  {
   "cell_type": "code",
   "execution_count": 3,
   "metadata": {},
   "outputs": [
    {
     "name": "stdout",
     "output_type": "stream",
     "text": [
      "4.7.0\n",
      "<class 'tuple'>\n",
      "(184, 150)\n",
      "(184, 150, 3)\n",
      "(184, 150, 3)\n",
      "(184, 150, 3)\n"
     ]
    }
   ],
   "source": [
    "import cv2 as cv\n",
    "import numpy as np\n",
    "#加载两张图片\n",
    "print(cv.__version__)\n",
    "img1 = cv.imread('messi.jpg')\n",
    "img2 = cv.imread('opencv-logo-black.png')\n",
    "\n",
    "#我想在左上角放置一个logo，所以我创建了一个 ROI,并且这个ROI的宽和高为我想放置的logo的宽和高\n",
    "rows,cols,channels = img2.shape\n",
    "print(type(img2.shape))\n",
    "roi = img1 [0:rows,0:cols]\n",
    "#现在创建一个logo的掩码，通过对logo图像进行阈值，并对阈值结果并创建其反转掩码\n",
    "img2gray = cv.cvtColor(img2,cv.COLOR_BGR2GRAY)\n",
    "# 阈值处理\n",
    "ret,mask = cv.threshold(img2gray,10,255,cv.THRESH_BINARY)\n",
    "# 取反\n",
    "mask_inv = cv.bitwise_not(mask)\n",
    "\n",
    "#现在使 ROI 中的徽标区域变黑 ->获取背景\n",
    "img1_bg = cv.bitwise_and(roi,roi,mask = mask_inv)\n",
    "print((mask_inv.shape))\n",
    "print((roi.shape))\n",
    " \n",
    "#仅从徽标图像中获取徽标区域。 ->获取logo\n",
    "print((img2.shape))\n",
    "img2_fg = cv.bitwise_and(img2,img2,mask = mask)\n",
    "print((img2_fg.shape))\n",
    "\n",
    "\n",
    "#在 ROI 中放置徽标并修改主图像\n",
    "\n",
    "dst = cv.add(img1_bg,img2_fg)\n",
    "img1 [0:rows,0:cols] = dst\n",
    "img_total = np.concatenate((img1_bg, img2_fg, dst), axis=1)\n",
    "cv.imshow('img_total',img_total)\n",
    "cv.waitKey(0)\n",
    "cv.destroyAllWindows()\n",
    "\n"
   ]
  },
  {
   "attachments": {},
   "cell_type": "markdown",
   "metadata": {},
   "source": [
    "```mermaid\n",
    "    graph BT\n",
    "        A(读取图片)-->B[背景图];\n",
    "        A(读取图片)-->C[LOGO]-->J{与操作}\n",
    "        \n",
    "        B[背景图]-->|裁切 |D[ROI_logo]-->H{获取背景}\n",
    "        B[背景图]-->|裁切 |E[others]-->N{拼接}\n",
    "        \n",
    "        C[LOGO] -->F[阈值处理]-->G[取反]--> H{与操作}-->I[背景]-->M[\"融合\"]\n",
    "        F[阈值处理]-->J{与操作}-->L[获取logo]-->M[融合]-->N{拼接}-->O[一张打上OpenCV logo的梅西]\n",
    "\n",
    "        \n",
    "        \n",
    "\n",
    "\n",
    "```\n"
   ]
  },
  {
   "attachments": {},
   "cell_type": "markdown",
   "metadata": {},
   "source": [
    "###  阈值处理又称为二值化\n",
    "使用 OpenCV 的滑动条来实现阈值的调节,并实时展示"
   ]
  },
  {
   "cell_type": "code",
   "execution_count": null,
   "metadata": {},
   "outputs": [],
   "source": [
    "import cv2 as cv\n",
    "import numpy as np\n",
    "\n",
    "# 创建一个空白图像，用于显示调整后的阈值效果\n",
    "img = cv.imread('messi.jpg')\n",
    "cv.namedWindow('Threshold Demo')\n",
    "\n",
    "# 定义滑动条的回调函数\n",
    "def threshold_callback(value):\n",
    "    threshold = value\n",
    "    ret, thresholded_img = cv.threshold(img, threshold, 255, cv.THRESH_BINARY)\n",
    "    cv.imshow('Threshold Demo', thresholded_img)\n",
    "\n",
    "# 创建滑动条\n",
    "cv.createTrackbar('Threshold', 'Threshold Demo', 0, 255, threshold_callback)\n",
    "\n",
    "# 初始化图像显示\n",
    "cv.imshow('Threshold Demo', img)\n",
    "\n",
    "while True:\n",
    "    # 按下 ESC 键退出程序\n",
    "    if cv.waitKey(1) == 27:\n",
    "        break\n",
    "\n",
    "cv.destroyAllWindows()\n"
   ]
  },
  {
   "attachments": {},
   "cell_type": "markdown",
   "metadata": {},
   "source": [
    "\n",
    "```"
   ]
  }
 ],
 "metadata": {
  "kernelspec": {
   "display_name": "Python 3",
   "language": "python",
   "name": "python3"
  },
  "language_info": {
   "codemirror_mode": {
    "name": "ipython",
    "version": 3
   },
   "file_extension": ".py",
   "mimetype": "text/x-python",
   "name": "python",
   "nbconvert_exporter": "python",
   "pygments_lexer": "ipython3",
   "version": "3.11.3"
  },
  "orig_nbformat": 4
 },
 "nbformat": 4,
 "nbformat_minor": 2
}
