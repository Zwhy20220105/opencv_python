{
 "cells": [
  {
   "attachments": {},
   "cell_type": "markdown",
   "metadata": {},
   "source": [
    "# 霍夫变换\n",
    "## 霍夫线变换"
   ]
  },
  {
   "cell_type": "code",
   "execution_count": 14,
   "metadata": {},
   "outputs": [
    {
     "name": "stdout",
     "output_type": "stream",
     "text": [
      "-5\n",
      "317\n"
     ]
    }
   ],
   "source": [
    "import cv2 as cv\n",
    "import numpy as np\n",
    "import _tools\n",
    "img = cv.imread(\"../data/messi5.jpg\")\n",
    "gray = cv.cvtColor(img,cv.COLOR_BGR2GRAY)\n",
    "\n",
    "# 边缘检测\n",
    "edges = cv.Canny(gray,50,200,apertureSize = 3)\n",
    "\n",
    "# 直线检测 边缘图片 距离精度 角度精度 最小投票阈值\n",
    "lines = cv.HoughLines(edges,1,np.pi/180,200)\n",
    "\n",
    "# Assuming 'lines' is a list containing lines in the format [(rho, theta), ...]\n",
    "for line in lines:\n",
    "    rho, theta = line[0]\n",
    "    \n",
    "    # rho,theta = line[0]\n",
    "    # a = np.cos(theta)\n",
    "    # b = np.sin(theta)\n",
    "    # x0 = a*rho\n",
    "    # y0 = b*rho\n",
    "    # x1 = int(x0 + 1000*(-b))\n",
    "    # y1 = int(y0 + 1000*(a))\n",
    "    # x2 = int(x0 - 1000*(-b))\n",
    "    # y2 = int(y0 - 1000*(a))\n",
    "    # cv.line(img,(x1,y1),(x2,y2),(0,0,255),2)\n",
    "\n",
    "    # Convert the line from polar coordinates to Cartesian coordinates\n",
    "    x1 = int(rho * np.cos(theta))\n",
    "    y1 = int(rho * np.sin(theta))\n",
    "    print(x1)\n",
    "    print(y1)\n",
    "    cv.circle(img,(x1,y1), 10, (0,255,255), -1)\n",
    "    x2 = int(x1 + 1000 * np.sin(theta))\n",
    "    y2 = int(y1 - 1000 * np.cos(theta))\n",
    "\n",
    "    # Draw the line on the 'img' image with red color (0, 0, 255) and thickness 2\n",
    "    cv.line(img, (x1, y1), (x2, y2), (0, 0, 255), 2)\n",
    "\n",
    "cv.imshow('img',img)\n",
    "cv.waitKey(0)\n",
    "cv.destroyAllWindows()\n",
    "\n"
   ]
  },
  {
   "attachments": {},
   "cell_type": "markdown",
   "metadata": {},
   "source": [
    "## 概率霍夫线变换"
   ]
  },
  {
   "cell_type": "code",
   "execution_count": 22,
   "metadata": {},
   "outputs": [],
   "source": [
    "import cv2 as cv\n",
    "import numpy as np\n",
    "\n",
    "# 读取图像\n",
    "img = cv.imread('../data/sudoku.png')\n",
    "\n",
    "# 将图像转换为灰度图像\n",
    "gray = cv.cvtColor(img, cv.COLOR_BGR2GRAY)\n",
    "\n",
    "# 使用 Canny 边缘检测算法，获取边缘图像\n",
    "edges = cv.Canny(gray, 50, 150, apertureSize=3)\n",
    "\n",
    "# 使用 HoughLinesP 函数检测直线\n",
    "# 参数说明：\n",
    "# - edges: 输入的边缘图像\n",
    "# - 1: 距离分辨率\n",
    "# - np.pi/180: 角度分辨率，以弧度为单位\n",
    "# - 100: 阈值，表示最小的直线投票数\n",
    "# - minLineLength: 最小直线长度\n",
    "# - maxLineGap: 直线上的最大允许间隙\n",
    "lines = cv.HoughLinesP(edges, 1, np.pi/180, 100, minLineLength=100, maxLineGap=5)\n",
    "\n",
    "# 在图像上绘制检测到的直线\n",
    "for line in lines:\n",
    "    x1, y1, x2, y2 = line[0]\n",
    "    # 绘制直线，使用绿色 (0, 255, 0) 和线宽 2\n",
    "    cv.line(img, (x1, y1), (x2, y2), (0, 255, 0), 2)\n",
    "\n",
    "# 显示图像\n",
    "cv.imshow('img', img)\n",
    "cv.waitKey(0)\n",
    "cv.destroyAllWindows()\n"
   ]
  },
  {
   "attachments": {},
   "cell_type": "markdown",
   "metadata": {},
   "source": [
    "# 霍夫圈变换\n",
    "\n",
    "1. 3D霍夫变换?\n",
    "\n",
    "2. 霍夫梯度法  \n",
    "a. 使用梯度方向对平面所有像素投票得到圆心组  \n",
    "b. 使用所有边缘对于所有圆心投票的距离(半径),得到的票最多的半径则是园的半径"
   ]
  },
  {
   "cell_type": "code",
   "execution_count": 25,
   "metadata": {},
   "outputs": [],
   "source": [
    "import numpy as np\n",
    "import cv2 as cv\n",
    "\n",
    "# 读取图像并转换为灰度图像\n",
    "img = cv.imread('../data/opencv-logo-white.png', 0)\n",
    "\n",
    "# 对图像进行中值模糊处理\n",
    "img = cv.medianBlur(img, 5)\n",
    "\n",
    "# 将灰度图像转换为彩色图像\n",
    "cimg = cv.cvtColor(img, cv.COLOR_GRAY2BGR)\n",
    "\n",
    "# 使用 HoughCircles 函数检测圆\n",
    "# 参数说明：\n",
    "# - img: 输入的灰度图像\n",
    "# - cv.HOUGH_GRADIENT: 使用梯度法进行圆检测\n",
    "# - 1: dp，表示圆心检测累加器图像的分辨率与原始图像分辨率的比例\n",
    "# - 20: minDist，表示检测到的圆之间的最小距离\n",
    "# - param1: Canny 边缘检测的高阈值\n",
    "# - param2: 圆心检测阈值，越小则检测到的圆越多\n",
    "# - minRadius: 最小圆半径，0 表示没有最小限制\n",
    "# - maxRadius: 最大圆半径，0 表示没有最大限制\n",
    "circles = cv.HoughCircles(img, cv.HOUGH_GRADIENT, 1, 20,\n",
    "                            param1=50, param2=30, minRadius=0, maxRadius=0)\n",
    "\n",
    "# 将检测到的圆坐标值转换为整数\n",
    "circles = np.uint16(np.around(circles))\n",
    "\n",
    "# 遍历检测到的圆，并在图像上绘制圆和圆心\n",
    "for i in circles[0, :]:\n",
    "    # 绘制外圆，使用绿色 (0, 255, 0) 和线宽 2\n",
    "    cv.circle(cimg, (i[0], i[1]), i[2], (0, 255, 0), 2)\n",
    "    # 绘制圆心，使用红色 (0, 0, 255) 和线宽 3\n",
    "    cv.circle(cimg, (i[0], i[1]), 2, (0, 0, 255), 3)\n",
    "\n",
    "# 显示绘制了圆和圆心的图像\n",
    "cv.imshow('detected circles', cimg)\n",
    "cv.waitKey(0)\n",
    "cv.destroyAllWindows()\n"
   ]
  }
 ],
 "metadata": {
  "kernelspec": {
   "display_name": "Python 3",
   "language": "python",
   "name": "python3"
  },
  "language_info": {
   "codemirror_mode": {
    "name": "ipython",
    "version": 3
   },
   "file_extension": ".py",
   "mimetype": "text/x-python",
   "name": "python",
   "nbconvert_exporter": "python",
   "pygments_lexer": "ipython3",
   "version": "3.11.3"
  },
  "orig_nbformat": 4
 },
 "nbformat": 4,
 "nbformat_minor": 2
}
