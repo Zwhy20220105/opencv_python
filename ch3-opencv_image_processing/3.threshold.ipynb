{
 "cells": [
  {
   "attachments": {},
   "cell_type": "markdown",
   "metadata": {},
   "source": [
    "# 图像阈值\n",
    "## 简单阈值法\n",
    "如果像素值大于阈值，则会被赋为一个值（可能为白色），否则会赋为另一个值（可能为黑色）\n",
    "1. **THRESH_BINARY**:像素值大于阈值的像素设置为最大值，小于等于阈值的像素设置为0。\n",
    "2. **THRESH_BINARY_INV**：与THRESH_BINARY相反，像素值大于阈值的像素设置为0，小于等于阈值的像素设置为最大值。\n",
    "\n",
    "3. **THRESH_TRUNC**：像素值大于阈值的像素设置为阈值，小于等于阈值的像素保持不变。\n",
    "\n",
    "4. **THRESH_TOZERO**：像素值大于阈值的像素保持不变，小于等于阈值的像素设置为0。\n",
    "\n",
    "5. **THRESH_TOZERO_INV**：与THRESH_TOZERO相反，像素值大于阈值的像素设置为0，小于等于阈值的像素保持不变"
   ]
  },
  {
   "cell_type": "code",
   "execution_count": null,
   "metadata": {},
   "outputs": [],
   "source": [
    "import cv2 as cv\n",
    "import numpy as np\n",
    "from matplotlib import pyplot as plt\n",
    "img = cv.imread('gradient.jpg',0)\n",
    "ret,thresh1 = cv.threshold(img,127,255,cv.THRESH_BINARY)\n",
    "ret,thresh2 = cv.threshold(img,127,255,cv.THRESH_BINARY_INV)\n",
    "ret,thresh3 = cv.threshold(img,127,255,cv.THRESH_TRUNC)\n",
    "ret,thresh4 = cv.threshold(img,127,255,cv.THRESH_TOZERO)\n",
    "ret,thresh5 = cv.threshold(img,127,255,cv.THRESH_TOZERO_INV)\n",
    "\n",
    "titles = ['Original Image','BINARY','BINARY_INV','TRUNC','TOZERO','TOZERO_INV']\n",
    "images = [img, thresh1, thresh2, thresh3, thresh4, thresh5]\n",
    "print(type(images))\n",
    "for i in range(6):\n",
    "    plt.subplot(2,3,i+1),plt.imshow(images[i],'gray')\n",
    "    plt.title(titles[i])\n",
    "    plt.xticks([]),plt.yticks([])\n",
    "plt.show()\n"
   ]
  },
  {
   "attachments": {},
   "cell_type": "markdown",
   "metadata": {},
   "source": [
    "## 自适应阈值\n",
    "1. **全局阈值化**：使用固定的阈值对整个图像进行二值化。\n",
    "2. **自适应均值阈值化**：根据邻域内像素值的平均值来计算阈值，并将阈值应用于整个图像。(所有像素权重一样)  \n",
    "能够根据图像不同区域的亮度变化自适应地确定阈值，从而更好地保留图像的细节信息。这在处理亮度不均匀或光照变化较大的图像时特别有用。  \n",
    "3. **自适应高斯阈值化**：根据邻域内像素值的加权平均值（使用高斯窗口）来计算阈值，并将阈值应用于整个图像。\n",
    "自适应高斯阈值化在处理具有不均匀光照和对比度差异的图像时表现较好，能够更好地保留图像细节。然而，计算复杂度较高和参数选择的影响是需要考虑的因素。\n",
    "高斯窗口是一种在图像处理中常用的窗口函数。它是由**高斯函数（正态分布）**在二维空间上计算得到的。  \n",
    "\n",
    "**所想**: 二值化这个东西很有意思,从之前到现在学的图像处理都是首先将彩色图转换为灰度图(或者直接用灰度模式加载),然后把图像通过阈值化转化为二进制图.  \n",
    "\n",
    "彩色图像相比灰度图像包含了更多的颜色信息，能够提供更为丰富的视觉感知和细节信息。而灰度图像则更加简化，注重图像的亮度变化，适用于某些特定的图像处理任务。  \n",
    "\n",
    "**注意**:medianBlur()函数是进行了中值滤波  \n"
   ]
  },
  {
   "cell_type": "code",
   "execution_count": null,
   "metadata": {},
   "outputs": [],
   "source": [
    "import cv2 as cv\n",
    "import numpy as np\n",
    "from matplotlib import pyplot as plt\n",
    "\n",
    "# 读取数独图片，并转换为灰度图像\n",
    "img = cv.imread('../data/sudoku.png', 0)\n",
    "\n",
    "# 对图像进行中值滤波\n",
    "img = cv.medianBlur(img, 5)\n",
    "\n",
    "# 全局阈值化\n",
    "ret, th1 = cv.threshold(img, 127, 255, cv.THRESH_BINARY)\n",
    "\n",
    "# 自适应均值阈值化\n",
    "th2 = cv.adaptiveThreshold(img, 255, cv.ADAPTIVE_THRESH_MEAN_C, cv.THRESH_BINARY, 11, 2)\n",
    "\n",
    "# 自适应高斯阈值化\n",
    "th3 = cv.adaptiveThreshold(img, 255, cv.ADAPTIVE_THRESH_GAUSSIAN_C, cv.THRESH_BINARY, 11, 2)\n",
    "\n",
    "# 设置标题和图像列表\n",
    "titles = ['Original Image', 'Global Thresholding (v = 127)', 'Adaptive Mean Thresholding', 'Adaptive Gaussian Thresholding']\n",
    "images = [img, th1, th2, th3]\n",
    "\n",
    "# 显示图像和标题\n",
    "for i in range(4):\n",
    "    plt.subplot(2, 2, i+1), plt.imshow(images[i], 'gray')\n",
    "    plt.title(titles[i])\n",
    "    plt.xticks([]), plt.yticks([])\n",
    "\n",
    "# 展示图像\n",
    "plt.show()\n"
   ]
  },
  {
   "attachments": {},
   "cell_type": "markdown",
   "metadata": {},
   "source": [
    "## Otsu 二值化\n",
    "ret3,th3 = cv.threshold(blur,0,255,cv.THRESH_BINARY+cv.THRESH_OTSU)\n",
    "这个函数的参数cv.THRESH_BINARY+cv.THRESH_OTSU不太能理解,其他还好."
   ]
  },
  {
   "cell_type": "code",
   "execution_count": null,
   "metadata": {},
   "outputs": [],
   "source": [
    "import cv2 as cv\n",
    "import numpy as np\n",
    "from matplotlib import pyplot as plt\n",
    "img = cv.imread('../data/noisy2.png',0)\n",
    "# 全局阈值\n",
    "ret1,th1 = cv.threshold(img,127,255,cv.THRESH_BINARY)\n",
    "# Otsu 阈值\n",
    "ret2,th2 = cv.threshold(img,0,255,cv.THRESH_BINARY+cv.THRESH_OTSU)\n",
    "# 经过高斯滤波的 Otsu 阈值\n",
    "#blur =img\n",
    "blur = cv.GaussianBlur(img,(5,5),0)\n",
    "#貌似dia\n",
    "ret3,th3 = cv.threshold(blur,0,255,cv.THRESH_OTSU)\n",
    "ret3,th3 = cv.threshold(blur,0,255,cv.THRESH_BINARY+cv.THRESH_OTSU)\n",
    "\n",
    "# 画出所有的图像和他们的直方图\n",
    "images = [img, 0, th1,\n",
    "          img, 0, th2,\n",
    "          blur, 0, th3]\n",
    "\n",
    "titles = ['Original Noisy Image','Histogram','Global Thresholding (v=127)',\n",
    "          'Original Noisy Image','Histogram',\"Otsu's Thresholding\",\n",
    "          'Gaussian filtered Image','Histogram',\"Otsu's Thresholding\"]\n",
    "for i in range(3):\n",
    "    plt.subplot(3,3,i*3+1),plt.imshow(images[i*3],'gray')\n",
    "    plt.title(titles[i*3]), plt.xticks([]), plt.yticks([])\n",
    "\n",
    "    plt.subplot(3,3,i*3+2),plt.hist(images[i*3].ravel(),256)\n",
    "    plt.title(titles[i*3+1]), plt.xticks([]), plt.yticks([])\n",
    "    #\n",
    "    plt.subplot(3,3,i*3+3),plt.imshow(images[i*3+2],'gray')\n",
    "    plt.title(titles[i*3+2]), plt.xticks([]), plt.yticks([])\n",
    "plt.show()\n"
   ]
  },
  {
   "cell_type": "code",
   "execution_count": 45,
   "metadata": {},
   "outputs": [
    {
     "name": "stdout",
     "output_type": "stream",
     "text": [
      "120 119.0\n"
     ]
    }
   ],
   "source": [
    "import cv2 as cv\n",
    "import numpy as np\n",
    "\n",
    "img = cv.imread('../data/noisy2.png', 0)\n",
    "# 高斯模糊\n",
    "blur = cv.GaussianBlur(img, (5, 5), 0)\n",
    "\n",
    "# 找到归一化直方图还有累计分布函数\n",
    "hist = cv.calcHist([blur], [0], None, [256], [0, 256])\n",
    "hist_norm = hist.ravel() / hist.max()\n",
    "\n",
    "Q = hist_norm.cumsum()\n",
    "bins = np.arange(256)\n",
    "fn_min = np.inf\n",
    "thresh = -1\n",
    "\n",
    "for i in range(1, 256):\n",
    "    # 概率\n",
    "    p1, p2 = np.hsplit(hist_norm, [i])\n",
    "    # 概率\n",
    "    q1, q2 = Q[i], Q[255] - Q[i]\n",
    "    # 权重\n",
    "    b1, b2 = np.hsplit(bins, [i])\n",
    "\n",
    "    # 计算两个类别的均值\n",
    "    m1 = np.sum(p1 * b1) / q1 if q1 != 0 else 0\n",
    "    m2 = np.sum(p2 * b2) / q2 if q2 != 0 else 0\n",
    "\n",
    "    # 计算两个类别的方差\n",
    "    v1 = np.sum(((b1 - m1) ** 2) * p1) / q1 if q1 != 0 else 0\n",
    "    v2 = np.sum(((b2 - m2) ** 2) * p2) / q2 if q2 != 0 else 0\n",
    "\n",
    "    # 计算加权方差函数\n",
    "    fn = v1 * q1 + v2 * q2\n",
    "\n",
    "    if fn < fn_min:\n",
    "        fn_min = fn\n",
    "        thresh = i\n",
    "\n",
    "# 使用Otsu阈值方法计算阈值\n",
    "ret, otsu = cv.threshold(blur, 0, 255, cv.THRESH_BINARY + cv.THRESH_OTSU)\n",
    "\n",
    "print(\"{} {}\".format(thresh, ret))\n"
   ]
  }
 ],
 "metadata": {
  "kernelspec": {
   "display_name": "Python 3",
   "language": "python",
   "name": "python3"
  },
  "language_info": {
   "codemirror_mode": {
    "name": "ipython",
    "version": 3
   },
   "file_extension": ".py",
   "mimetype": "text/x-python",
   "name": "python",
   "nbconvert_exporter": "python",
   "pygments_lexer": "ipython3",
   "version": "3.11.3"
  },
  "orig_nbformat": 4
 },
 "nbformat": 4,
 "nbformat_minor": 2
}
