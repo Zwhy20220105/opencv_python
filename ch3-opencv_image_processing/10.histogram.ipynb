{
 "cells": [
  {
   "attachments": {},
   "cell_type": "markdown",
   "metadata": {},
   "source": [
    "# 直方图 查找,绘制,分析\n",
    "\n",
    "定义: 在X轴上具有像素值（不总是从0到255的范围），在Y轴上具有图像中相应像素数的图。\n",
    "## 相关术语\n",
    "1. BINS 直方图的单位刻度大小(默认为1)\n",
    "2. DIMS 收集数据的参数的数量(默认为1)\n",
    "3. RANGE 收集数据的参数的数量(默认为[0,255])"
   ]
  },
  {
   "attachments": {},
   "cell_type": "markdown",
   "metadata": {},
   "source": [
    "## 计算直方图以及绘制灰度直方图"
   ]
  },
  {
   "cell_type": "code",
   "execution_count": null,
   "metadata": {},
   "outputs": [],
   "source": [
    "import cv2 as cv\n",
    "import numpy as np\n",
    "from matplotlib import pyplot as plt\n",
    "# 读取图像\n",
    "image = cv.imread('../data/apple.jpg')\n",
    " \n",
    "# 创建直方图 速度  cv.calcHist=40  np.bincount()=10 np.histogram()=1\n",
    "hist = cv.calcHist([image], [0], None, [256], [0, 256])\n",
    "\n",
    "hist,bins = np.histogram(image.ravel(),256,[0,256])\n",
    "\n",
    "hist = np.bincount(image.ravel(),minlength = 256)\n",
    "\n",
    "# 默认绘制灰度直方图\n",
    "plt.hist(image.ravel(),256,[0,256])\n",
    "plt.show()\n"
   ]
  },
  {
   "attachments": {},
   "cell_type": "markdown",
   "metadata": {},
   "source": [
    "## rgb直方图"
   ]
  },
  {
   "cell_type": "code",
   "execution_count": null,
   "metadata": {},
   "outputs": [],
   "source": [
    "import numpy as np\n",
    "import cv2 as cv\n",
    "from matplotlib import pyplot as plt\n",
    "img = cv.imread('../data/home.jpg')\n",
    "color = ('b','g','r')\n",
    "for i,col in enumerate(color):\n",
    "    histr = cv.calcHist([img],[i],None,[256],[0,256])\n",
    "    plt.plot(histr,color = col)\n",
    "    plt.xlim([0,256])\n",
    "plt.show()"
   ]
  },
  {
   "attachments": {},
   "cell_type": "markdown",
   "metadata": {},
   "source": [
    "## 应用掩码对roi去直方图"
   ]
  },
  {
   "cell_type": "code",
   "execution_count": null,
   "metadata": {},
   "outputs": [],
   "source": [
    "import numpy as np\n",
    "import cv2 as cv\n",
    "from matplotlib import pyplot as plt\n",
    "\n",
    "# 读取图像（以灰度模式）\n",
    "img = cv.imread('../data/home.jpg', 0)\n",
    "\n",
    "# 创建掩码\n",
    "mask = np.zeros(img.shape[:2], np.uint8)\n",
    "mask[100:300, 100:400] = 255\n",
    "\n",
    "# 对图像应用掩码\n",
    "masked_img = cv.bitwise_and(img, img, mask=mask)\n",
    "\n",
    "# 计算完整图像和掩码区域的直方图\n",
    "hist_full = cv.calcHist([img], [0], None, [256], [0, 256])\n",
    "hist_mask = cv.calcHist([img], [0], mask, [256], [0, 256])\n",
    "\n",
    "# 绘制图像和直方图\n",
    "plt.subplot(221), plt.imshow(img, 'gray')\n",
    "plt.title('原图像')\n",
    "plt.subplot(222), plt.imshow(mask, 'gray')\n",
    "plt.title('掩码')\n",
    "plt.subplot(223), plt.imshow(masked_img, 'gray')\n",
    "plt.title('应用掩码后的图像')\n",
    "plt.subplot(224), plt.plot(hist_full), plt.plot(hist_mask)\n",
    "plt.xlim([0, 256])\n",
    "plt.title('直方图')\n",
    "plt.show()\n"
   ]
  },
  {
   "attachments": {},
   "cell_type": "markdown",
   "metadata": {},
   "source": [
    "# 直方图均衡\n",
    "1. 好的图像应该是来自图像所有区域的像素\n",
    "2. 直方图均衡会提高对比度\n",
    "\n",
    "## CDF: 累计分布函数\n",
    "CDF，即累积分布函数（Cumulative Distribution Function），是概率论和统计学中常用的函数之一。对于一个随机变量，CDF描述了它的取值小于或等于某个给定值的概率。\n",
    "\n",
    "在图像处理中，CDF常用于描述图像灰度级的分布情况。对于图像的灰度直方图，CDF表示了在每个灰度级下，该灰度级及之前的所有灰度级出现的像素数占总像素数的比例。\n",
    "\n",
    "在下面代码中，计算CDF的步骤如下：\n",
    "\n",
    "1. 通过计算图像的灰度直方图，得到每个灰度级下的像素数（hist）。\n",
    "2. 使用cumsum方法计算累积和（CDF），得到每个灰度级及之前的所有灰度级出现的像素数之和（cdf）。\n",
    "3. 对CDF进行归一化，使其取值范围在0到1之间，以便在绘制时与直方图作对比。  \n",
    "\n",
    "通过绘制CDF曲线，我们可以了解图像的灰度级分布情况，以及灰度级上的像素累积概率。CDF曲线的斜率越陡峭，表示图像中存在大量像素集中在该灰度级附近；而斜率较缓的区域表示灰度级分布较为均匀。直方图与CDF曲线的组合可以提供有关图像灰度分布的更详细信息。"
   ]
  },
  {
   "cell_type": "code",
   "execution_count": null,
   "metadata": {},
   "outputs": [],
   "source": [
    "import numpy as np\n",
    "import cv2 as cv\n",
    "from matplotlib import pyplot as plt\n",
    "import _tools\n",
    "\n",
    "# 读取灰度图像\n",
    "img = cv.imread(\"../data/apple.jpg\", 0)\n",
    "\n",
    "# 计算灰度直方图\n",
    "hist, bins = np.histogram(img.flatten(), 256, [0, 256])\n",
    "\n",
    "# 计算累积分布函数（CDF）\n",
    "cdf = hist.cumsum()\n",
    "\n",
    "# 归一化CDF\n",
    "cdf_normalized = cdf * float(hist.max()) / cdf.max()\n",
    "\n",
    "# 创建了一个掩码数组 cdf_m，用于将 CDF 中的零值屏蔽（遮蔽）起来 \n",
    "cdf_m = np.ma.masked_equal(cdf,0)\n",
    "# 归一化和线性拉伸的操作\n",
    "cdf_m = (cdf_m - cdf_m.min())*255/(cdf_m.max()-cdf_m.min())\n",
    "# 这行代码将对掩码数组 cdf_m 进行操作，将之前其中的屏蔽（masked）值填充为 0，并将数据类型转换为无符号整数类型（uint8）。\n",
    "cdf = np.ma.filled(cdf_m,0).astype('uint8')\n",
    "# img 数组中的每个像素值将被用作索引，从 cdf 数组中查找对应的像素值进行替换\n",
    "img2 = cdf[img] \n",
    " # 显示结果\n",
    "\n",
    "# 创建图形对象和子图\n",
    "fig, (ax1, ax2) = plt.subplots(1, 2, figsize=(10, 5))\n",
    "\n",
    "# 将图像堆叠在一起显示\n",
    "res = np.hstack((img, img2))\n",
    "\n",
    "# 绘制堆叠后的图像\n",
    "_tools.plot_image( 111,res, \"Stacked Image\",\"gray\")\n",
    "\n",
    "# 显示所有图像\n",
    "plt.show()\n",
    "\n",
    "# # 在子图上绘制直方图和CDF曲线\n",
    "# ax1.plot(cdf_normalized, color='b')\n",
    "# ax1.set_xlim([0, 256])\n",
    "# ax1.set_title('CDF')\n",
    "# ax1.hist(img.flatten(), 256, [0, 256], color='r')\n",
    "# ax1.set_xlim([0, 256])\n",
    "# ax1.set_title('Histogram')\n",
    "\n",
    "# ax2.hist(img2.flatten(), 256, [0, 256], color='r')\n",
    "# ax2.set_xlim([0, 256])\n",
    "# ax2.set_title('Histogram')\n",
    "\n",
    "# ax2.plot(cdf, color='b')\n",
    "# ax2.set_xlim([0, 256])\n",
    "# ax2.set_title('CDF')\n",
    "\n",
    "# ax1.legend(('histogram', 'histogram'), loc='upper left')\n",
    "\n",
    "# # 调整子图之间的间距\n",
    "# plt.tight_layout()\n",
    "\n",
    "# # 显示图形\n",
    "# plt.show()\n"
   ]
  },
  {
   "cell_type": "code",
   "execution_count": null,
   "metadata": {},
   "outputs": [],
   "source": [
    "import numpy as np\n",
    "import cv2 as cv\n",
    "from matplotlib import pyplot as plt\n",
    "import _tools\n",
    "\n",
    "# 读取图像\n",
    "img = cv.imread('../data/apple.jpg', 0)\n",
    "\n",
    "# 进行直方图均衡化\n",
    "equ = cv.equalizeHist(img)\n",
    "\n",
    "# 将图像堆叠在一起显示\n",
    "res = np.hstack((img, equ))\n",
    "\n",
    "# 绘制堆叠后的图像\n",
    "_tools.plot_image( 111,res, \"Stacked Image\",\"gray\")\n",
    "\n",
    "# 显示所有图像\n",
    "plt.show()\n"
   ]
  },
  {
   "attachments": {},
   "cell_type": "markdown",
   "metadata": {},
   "source": [
    "## 自适应直方图均衡\n",
    "clahe = cv.createCLAHE(clipLimit=2.0, tileGridSize=(8,8))  \n",
    "1. clipLimit（默认值为 40.0）：这是 CLAHE 中的对比度限制参数，用于控制直方图均衡化的对比度增强程度。\n",
    "2. tileGridSize（默认值为 (8, 8)）：这是 CLAHE 中用于划分图像的局部区域的网格大小。图像被划分为多个小块，每个小块独立进行直方图均衡化。"
   ]
  },
  {
   "cell_type": "code",
   "execution_count": null,
   "metadata": {},
   "outputs": [],
   "source": [
    "import numpy as np\n",
    "import cv2 as cv\n",
    "from matplotlib import pyplot as plt\n",
    "import _tools\n",
    "img = cv.imread('../data/tsukuba_l.png',0)\n",
    "\n",
    "# 自适应\n",
    "clahe = cv.createCLAHE(clipLimit=2.0, tileGridSize=(8,8))\n",
    "cl1 = clahe.apply(img)\n",
    "\n",
    "# 全局进行直方图均衡化\n",
    "equ = cv.equalizeHist(img)\n",
    "\n",
    "# 将图像堆叠在一起显示\n",
    "res = np.hstack((img, equ,cl1))\n",
    "\n",
    "# 绘制堆叠后的图像\n",
    "_tools.plot_image( 111,res, \"Stacked Image\",\"gray\")\n",
    "\n",
    "# 显示所有图像\n",
    "plt.show()\n"
   ]
  },
  {
   "attachments": {},
   "cell_type": "markdown",
   "metadata": {},
   "source": [
    "# 二维直方图\n",
    "二维直方图中，我们会考虑两个特征。 通常，它用于查找颜色直方图，其中两个特征是每个像素的色相和饱和度值"
   ]
  },
  {
   "cell_type": "code",
   "execution_count": null,
   "metadata": {},
   "outputs": [],
   "source": [
    "import numpy as np\n",
    "import cv2 as cv\n",
    "import _tools\n",
    "img = cv.imread('../data/home.jpg')\n",
    "hsv = cv.cvtColor(img,cv.COLOR_BGR2HSV)\n",
    "hist = cv.calcHist([hsv], [0, 1], None, [180, 256], [0, 180, 0, 256])\n",
    "# 绘制堆叠后的图像\n",
    "_tools.plot_image( 111,hist, \"Stacked Image\")\n",
    "# 显示所有图像\n",
    "plt.show()"
   ]
  },
  {
   "attachments": {},
   "cell_type": "markdown",
   "metadata": {},
   "source": [
    "## 直方图反投影"
   ]
  },
  {
   "cell_type": "code",
   "execution_count": 11,
   "metadata": {},
   "outputs": [],
   "source": [
    "import numpy as np\n",
    "import cv2 as cv\n",
    "from matplotlib import pyplot as plt\n",
    "#roi是我们需要找到的对象或对象区域\n",
    "roi = cv.imread('../data/messi5_roi.jpg')\n",
    "hsv = cv.cvtColor(roi,cv.COLOR_BGR2HSV)\n",
    "\n",
    "#目标是我们搜索的图像\n",
    "target = cv.imread('../data/messi5.jpg')\n",
    "hsvt = cv.cvtColor(target,cv.COLOR_BGR2HSV)\n",
    "\n",
    "# 计算对象的直方图\n",
    "roihist = cv.calcHist([hsv],[0, 1], None, [180, 256], [0, 180, 0, 256] )\n",
    "# 直方图归一化并利用反传算法\n",
    "cv.normalize(roihist,roihist,0,255,cv.NORM_MINMAX)\n",
    "dst = cv.calcBackProject([hsvt],[0,1],roihist,[0,180,0,256],1)\n",
    "\n",
    "# 用圆盘进行卷积\n",
    "disc = cv.getStructuringElement(cv.MORPH_ELLIPSE,(5,5))\n",
    "cv.filter2D(dst,-1,disc,dst)\n",
    "\n",
    "# 应用阈值作与操作\n",
    "ret,thresh = cv.threshold(dst,50,255,0)\n",
    "thresh = cv.merge((thresh,thresh,thresh))\n",
    "res = cv.bitwise_and(target,thresh)\n",
    "\n",
    "# 绘制图像和直方图\n",
    "# plt.subplot(221), plt.imshow(target, 'gray')\n",
    "# plt.title('原图像')\n",
    "# plt.subplot(222), plt.imshow(thresh, 'gray')\n",
    "# plt.title('掩码')\n",
    "# plt.subplot(223), plt.imshow(res, 'gray')\n",
    "# plt.title('应用掩码后的图像')\n",
    "# plt.show()\n",
    "\n",
    "\n",
    "img_total = np.concatenate((target, thresh, res), axis=1)\n",
    "cv.imshow('img_total',img_total)\n",
    "cv.waitKey(0)\n",
    "cv.destroyAllWindows()\n"
   ]
  }
 ],
 "metadata": {
  "kernelspec": {
   "display_name": "Python 3",
   "language": "python",
   "name": "python3"
  },
  "language_info": {
   "codemirror_mode": {
    "name": "ipython",
    "version": 3
   },
   "file_extension": ".py",
   "mimetype": "text/x-python",
   "name": "python",
   "nbconvert_exporter": "python",
   "pygments_lexer": "ipython3",
   "version": "3.11.3"
  },
  "orig_nbformat": 4
 },
 "nbformat": 4,
 "nbformat_minor": 2
}
